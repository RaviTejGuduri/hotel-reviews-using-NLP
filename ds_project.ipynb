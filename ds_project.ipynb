{
  "nbformat": 4,
  "nbformat_minor": 0,
  "metadata": {
    "colab": {
      "provenance": [],
      "toc_visible": true
    },
    "kernelspec": {
      "name": "python3",
      "display_name": "Python 3"
    },
    "language_info": {
      "name": "python"
    }
  },
  "cells": [
    {
      "cell_type": "code",
      "execution_count": null,
      "metadata": {
        "id": "iZ-clGCcUfxN"
      },
      "outputs": [],
      "source": [
        "# Importing Libraries\n",
        "import numpy as np\n",
        "import pandas as pd\n",
        "import matplotlib.pyplot as plt\n",
        "\n"
      ]
    },
    {
      "cell_type": "code",
      "source": [
        "dataset = pd.read_csv(\"Restaurant_Reviews.tsv\",delimiter=\"\\t\",quoting=3);\n",
        "dataset"
      ],
      "metadata": {
        "colab": {
          "base_uri": "https://localhost:8080/",
          "height": 424
        },
        "id": "3ccfLtLzW0Qr",
        "outputId": "fe052f43-3e77-46d2-d60b-b81babfd56c2"
      },
      "execution_count": null,
      "outputs": [
        {
          "output_type": "execute_result",
          "data": {
            "text/plain": [
              "                                                Review  Liked\n",
              "0                             Wow... Loved this place.      1\n",
              "1                                   Crust is not good.      0\n",
              "2            Not tasty and the texture was just nasty.      0\n",
              "3    Stopped by during the late May bank holiday of...      1\n",
              "4    The selection on the menu was great and so wer...      1\n",
              "..                                                 ...    ...\n",
              "995  I think food should have flavor and texture an...      0\n",
              "996                           Appetite instantly gone.      0\n",
              "997  Overall I was not impressed and would not go b...      0\n",
              "998  The whole experience was underwhelming, and I ...      0\n",
              "999  Then, as if I hadn't wasted enough of my life ...      0\n",
              "\n",
              "[1000 rows x 2 columns]"
            ],
            "text/html": [
              "\n",
              "  <div id=\"df-bcc2c1a1-5003-48ba-893a-1e9b4c6227e5\">\n",
              "    <div class=\"colab-df-container\">\n",
              "      <div>\n",
              "<style scoped>\n",
              "    .dataframe tbody tr th:only-of-type {\n",
              "        vertical-align: middle;\n",
              "    }\n",
              "\n",
              "    .dataframe tbody tr th {\n",
              "        vertical-align: top;\n",
              "    }\n",
              "\n",
              "    .dataframe thead th {\n",
              "        text-align: right;\n",
              "    }\n",
              "</style>\n",
              "<table border=\"1\" class=\"dataframe\">\n",
              "  <thead>\n",
              "    <tr style=\"text-align: right;\">\n",
              "      <th></th>\n",
              "      <th>Review</th>\n",
              "      <th>Liked</th>\n",
              "    </tr>\n",
              "  </thead>\n",
              "  <tbody>\n",
              "    <tr>\n",
              "      <th>0</th>\n",
              "      <td>Wow... Loved this place.</td>\n",
              "      <td>1</td>\n",
              "    </tr>\n",
              "    <tr>\n",
              "      <th>1</th>\n",
              "      <td>Crust is not good.</td>\n",
              "      <td>0</td>\n",
              "    </tr>\n",
              "    <tr>\n",
              "      <th>2</th>\n",
              "      <td>Not tasty and the texture was just nasty.</td>\n",
              "      <td>0</td>\n",
              "    </tr>\n",
              "    <tr>\n",
              "      <th>3</th>\n",
              "      <td>Stopped by during the late May bank holiday of...</td>\n",
              "      <td>1</td>\n",
              "    </tr>\n",
              "    <tr>\n",
              "      <th>4</th>\n",
              "      <td>The selection on the menu was great and so wer...</td>\n",
              "      <td>1</td>\n",
              "    </tr>\n",
              "    <tr>\n",
              "      <th>...</th>\n",
              "      <td>...</td>\n",
              "      <td>...</td>\n",
              "    </tr>\n",
              "    <tr>\n",
              "      <th>995</th>\n",
              "      <td>I think food should have flavor and texture an...</td>\n",
              "      <td>0</td>\n",
              "    </tr>\n",
              "    <tr>\n",
              "      <th>996</th>\n",
              "      <td>Appetite instantly gone.</td>\n",
              "      <td>0</td>\n",
              "    </tr>\n",
              "    <tr>\n",
              "      <th>997</th>\n",
              "      <td>Overall I was not impressed and would not go b...</td>\n",
              "      <td>0</td>\n",
              "    </tr>\n",
              "    <tr>\n",
              "      <th>998</th>\n",
              "      <td>The whole experience was underwhelming, and I ...</td>\n",
              "      <td>0</td>\n",
              "    </tr>\n",
              "    <tr>\n",
              "      <th>999</th>\n",
              "      <td>Then, as if I hadn't wasted enough of my life ...</td>\n",
              "      <td>0</td>\n",
              "    </tr>\n",
              "  </tbody>\n",
              "</table>\n",
              "<p>1000 rows × 2 columns</p>\n",
              "</div>\n",
              "      <button class=\"colab-df-convert\" onclick=\"convertToInteractive('df-bcc2c1a1-5003-48ba-893a-1e9b4c6227e5')\"\n",
              "              title=\"Convert this dataframe to an interactive table.\"\n",
              "              style=\"display:none;\">\n",
              "        \n",
              "  <svg xmlns=\"http://www.w3.org/2000/svg\" height=\"24px\"viewBox=\"0 0 24 24\"\n",
              "       width=\"24px\">\n",
              "    <path d=\"M0 0h24v24H0V0z\" fill=\"none\"/>\n",
              "    <path d=\"M18.56 5.44l.94 2.06.94-2.06 2.06-.94-2.06-.94-.94-2.06-.94 2.06-2.06.94zm-11 1L8.5 8.5l.94-2.06 2.06-.94-2.06-.94L8.5 2.5l-.94 2.06-2.06.94zm10 10l.94 2.06.94-2.06 2.06-.94-2.06-.94-.94-2.06-.94 2.06-2.06.94z\"/><path d=\"M17.41 7.96l-1.37-1.37c-.4-.4-.92-.59-1.43-.59-.52 0-1.04.2-1.43.59L10.3 9.45l-7.72 7.72c-.78.78-.78 2.05 0 2.83L4 21.41c.39.39.9.59 1.41.59.51 0 1.02-.2 1.41-.59l7.78-7.78 2.81-2.81c.8-.78.8-2.07 0-2.86zM5.41 20L4 18.59l7.72-7.72 1.47 1.35L5.41 20z\"/>\n",
              "  </svg>\n",
              "      </button>\n",
              "      \n",
              "  <style>\n",
              "    .colab-df-container {\n",
              "      display:flex;\n",
              "      flex-wrap:wrap;\n",
              "      gap: 12px;\n",
              "    }\n",
              "\n",
              "    .colab-df-convert {\n",
              "      background-color: #E8F0FE;\n",
              "      border: none;\n",
              "      border-radius: 50%;\n",
              "      cursor: pointer;\n",
              "      display: none;\n",
              "      fill: #1967D2;\n",
              "      height: 32px;\n",
              "      padding: 0 0 0 0;\n",
              "      width: 32px;\n",
              "    }\n",
              "\n",
              "    .colab-df-convert:hover {\n",
              "      background-color: #E2EBFA;\n",
              "      box-shadow: 0px 1px 2px rgba(60, 64, 67, 0.3), 0px 1px 3px 1px rgba(60, 64, 67, 0.15);\n",
              "      fill: #174EA6;\n",
              "    }\n",
              "\n",
              "    [theme=dark] .colab-df-convert {\n",
              "      background-color: #3B4455;\n",
              "      fill: #D2E3FC;\n",
              "    }\n",
              "\n",
              "    [theme=dark] .colab-df-convert:hover {\n",
              "      background-color: #434B5C;\n",
              "      box-shadow: 0px 1px 3px 1px rgba(0, 0, 0, 0.15);\n",
              "      filter: drop-shadow(0px 1px 2px rgba(0, 0, 0, 0.3));\n",
              "      fill: #FFFFFF;\n",
              "    }\n",
              "  </style>\n",
              "\n",
              "      <script>\n",
              "        const buttonEl =\n",
              "          document.querySelector('#df-bcc2c1a1-5003-48ba-893a-1e9b4c6227e5 button.colab-df-convert');\n",
              "        buttonEl.style.display =\n",
              "          google.colab.kernel.accessAllowed ? 'block' : 'none';\n",
              "\n",
              "        async function convertToInteractive(key) {\n",
              "          const element = document.querySelector('#df-bcc2c1a1-5003-48ba-893a-1e9b4c6227e5');\n",
              "          const dataTable =\n",
              "            await google.colab.kernel.invokeFunction('convertToInteractive',\n",
              "                                                     [key], {});\n",
              "          if (!dataTable) return;\n",
              "\n",
              "          const docLinkHtml = 'Like what you see? Visit the ' +\n",
              "            '<a target=\"_blank\" href=https://colab.research.google.com/notebooks/data_table.ipynb>data table notebook</a>'\n",
              "            + ' to learn more about interactive tables.';\n",
              "          element.innerHTML = '';\n",
              "          dataTable['output_type'] = 'display_data';\n",
              "          await google.colab.output.renderOutput(dataTable, element);\n",
              "          const docLink = document.createElement('div');\n",
              "          docLink.innerHTML = docLinkHtml;\n",
              "          element.appendChild(docLink);\n",
              "        }\n",
              "      </script>\n",
              "    </div>\n",
              "  </div>\n",
              "  "
            ]
          },
          "metadata": {},
          "execution_count": 10
        }
      ]
    },
    {
      "cell_type": "code",
      "source": [
        "dataset.size"
      ],
      "metadata": {
        "colab": {
          "base_uri": "https://localhost:8080/"
        },
        "id": "Hn7HUfq0W1yT",
        "outputId": "05df728e-a3d6-4d0a-8371-6cae8674ae08"
      },
      "execution_count": null,
      "outputs": [
        {
          "output_type": "execute_result",
          "data": {
            "text/plain": [
              "2000"
            ]
          },
          "metadata": {},
          "execution_count": 11
        }
      ]
    },
    {
      "cell_type": "code",
      "source": [
        "dataset.shape"
      ],
      "metadata": {
        "colab": {
          "base_uri": "https://localhost:8080/"
        },
        "id": "eDMi7TlsXMm0",
        "outputId": "78f5faa1-fefe-48d3-cf9d-c76333f82246"
      },
      "execution_count": null,
      "outputs": [
        {
          "output_type": "execute_result",
          "data": {
            "text/plain": [
              "(1000, 2)"
            ]
          },
          "metadata": {},
          "execution_count": 12
        }
      ]
    },
    {
      "cell_type": "code",
      "source": [
        "dataset.columns"
      ],
      "metadata": {
        "colab": {
          "base_uri": "https://localhost:8080/"
        },
        "id": "W_f3MqqaXVRs",
        "outputId": "f47ad449-7347-4903-8595-404fe7146f26"
      },
      "execution_count": null,
      "outputs": [
        {
          "output_type": "execute_result",
          "data": {
            "text/plain": [
              "Index(['Review', 'Liked'], dtype='object')"
            ]
          },
          "metadata": {},
          "execution_count": 14
        }
      ]
    },
    {
      "cell_type": "code",
      "source": [
        "dataset.head(20)\n"
      ],
      "metadata": {
        "colab": {
          "base_uri": "https://localhost:8080/",
          "height": 676
        },
        "id": "_pQtAwgtXhdI",
        "outputId": "caf02a13-3496-413f-9c1f-6cc4c72d972e"
      },
      "execution_count": null,
      "outputs": [
        {
          "output_type": "execute_result",
          "data": {
            "text/plain": [
              "                                               Review  Liked\n",
              "0                            Wow... Loved this place.      1\n",
              "1                                  Crust is not good.      0\n",
              "2           Not tasty and the texture was just nasty.      0\n",
              "3   Stopped by during the late May bank holiday of...      1\n",
              "4   The selection on the menu was great and so wer...      1\n",
              "5      Now I am getting angry and I want my damn pho.      0\n",
              "6               Honeslty it didn't taste THAT fresh.)      0\n",
              "7   The potatoes were like rubber and you could te...      0\n",
              "8                           The fries were great too.      1\n",
              "9                                      A great touch.      1\n",
              "10                           Service was very prompt.      1\n",
              "11                                 Would not go back.      0\n",
              "12  The cashier had no care what so ever on what I...      0\n",
              "13  I tried the Cape Cod ravoli, chicken, with cra...      1\n",
              "14  I was disgusted because I was pretty sure that...      0\n",
              "15  I was shocked because no signs indicate cash o...      0\n",
              "16                                Highly recommended.      1\n",
              "17             Waitress was a little slow in service.      0\n",
              "18  This place is not worth your time, let alone V...      0\n",
              "19                               did not like at all.      0"
            ],
            "text/html": [
              "\n",
              "  <div id=\"df-421b0340-77d8-48f6-89ba-3c767c6b4ae0\">\n",
              "    <div class=\"colab-df-container\">\n",
              "      <div>\n",
              "<style scoped>\n",
              "    .dataframe tbody tr th:only-of-type {\n",
              "        vertical-align: middle;\n",
              "    }\n",
              "\n",
              "    .dataframe tbody tr th {\n",
              "        vertical-align: top;\n",
              "    }\n",
              "\n",
              "    .dataframe thead th {\n",
              "        text-align: right;\n",
              "    }\n",
              "</style>\n",
              "<table border=\"1\" class=\"dataframe\">\n",
              "  <thead>\n",
              "    <tr style=\"text-align: right;\">\n",
              "      <th></th>\n",
              "      <th>Review</th>\n",
              "      <th>Liked</th>\n",
              "    </tr>\n",
              "  </thead>\n",
              "  <tbody>\n",
              "    <tr>\n",
              "      <th>0</th>\n",
              "      <td>Wow... Loved this place.</td>\n",
              "      <td>1</td>\n",
              "    </tr>\n",
              "    <tr>\n",
              "      <th>1</th>\n",
              "      <td>Crust is not good.</td>\n",
              "      <td>0</td>\n",
              "    </tr>\n",
              "    <tr>\n",
              "      <th>2</th>\n",
              "      <td>Not tasty and the texture was just nasty.</td>\n",
              "      <td>0</td>\n",
              "    </tr>\n",
              "    <tr>\n",
              "      <th>3</th>\n",
              "      <td>Stopped by during the late May bank holiday of...</td>\n",
              "      <td>1</td>\n",
              "    </tr>\n",
              "    <tr>\n",
              "      <th>4</th>\n",
              "      <td>The selection on the menu was great and so wer...</td>\n",
              "      <td>1</td>\n",
              "    </tr>\n",
              "    <tr>\n",
              "      <th>5</th>\n",
              "      <td>Now I am getting angry and I want my damn pho.</td>\n",
              "      <td>0</td>\n",
              "    </tr>\n",
              "    <tr>\n",
              "      <th>6</th>\n",
              "      <td>Honeslty it didn't taste THAT fresh.)</td>\n",
              "      <td>0</td>\n",
              "    </tr>\n",
              "    <tr>\n",
              "      <th>7</th>\n",
              "      <td>The potatoes were like rubber and you could te...</td>\n",
              "      <td>0</td>\n",
              "    </tr>\n",
              "    <tr>\n",
              "      <th>8</th>\n",
              "      <td>The fries were great too.</td>\n",
              "      <td>1</td>\n",
              "    </tr>\n",
              "    <tr>\n",
              "      <th>9</th>\n",
              "      <td>A great touch.</td>\n",
              "      <td>1</td>\n",
              "    </tr>\n",
              "    <tr>\n",
              "      <th>10</th>\n",
              "      <td>Service was very prompt.</td>\n",
              "      <td>1</td>\n",
              "    </tr>\n",
              "    <tr>\n",
              "      <th>11</th>\n",
              "      <td>Would not go back.</td>\n",
              "      <td>0</td>\n",
              "    </tr>\n",
              "    <tr>\n",
              "      <th>12</th>\n",
              "      <td>The cashier had no care what so ever on what I...</td>\n",
              "      <td>0</td>\n",
              "    </tr>\n",
              "    <tr>\n",
              "      <th>13</th>\n",
              "      <td>I tried the Cape Cod ravoli, chicken, with cra...</td>\n",
              "      <td>1</td>\n",
              "    </tr>\n",
              "    <tr>\n",
              "      <th>14</th>\n",
              "      <td>I was disgusted because I was pretty sure that...</td>\n",
              "      <td>0</td>\n",
              "    </tr>\n",
              "    <tr>\n",
              "      <th>15</th>\n",
              "      <td>I was shocked because no signs indicate cash o...</td>\n",
              "      <td>0</td>\n",
              "    </tr>\n",
              "    <tr>\n",
              "      <th>16</th>\n",
              "      <td>Highly recommended.</td>\n",
              "      <td>1</td>\n",
              "    </tr>\n",
              "    <tr>\n",
              "      <th>17</th>\n",
              "      <td>Waitress was a little slow in service.</td>\n",
              "      <td>0</td>\n",
              "    </tr>\n",
              "    <tr>\n",
              "      <th>18</th>\n",
              "      <td>This place is not worth your time, let alone V...</td>\n",
              "      <td>0</td>\n",
              "    </tr>\n",
              "    <tr>\n",
              "      <th>19</th>\n",
              "      <td>did not like at all.</td>\n",
              "      <td>0</td>\n",
              "    </tr>\n",
              "  </tbody>\n",
              "</table>\n",
              "</div>\n",
              "      <button class=\"colab-df-convert\" onclick=\"convertToInteractive('df-421b0340-77d8-48f6-89ba-3c767c6b4ae0')\"\n",
              "              title=\"Convert this dataframe to an interactive table.\"\n",
              "              style=\"display:none;\">\n",
              "        \n",
              "  <svg xmlns=\"http://www.w3.org/2000/svg\" height=\"24px\"viewBox=\"0 0 24 24\"\n",
              "       width=\"24px\">\n",
              "    <path d=\"M0 0h24v24H0V0z\" fill=\"none\"/>\n",
              "    <path d=\"M18.56 5.44l.94 2.06.94-2.06 2.06-.94-2.06-.94-.94-2.06-.94 2.06-2.06.94zm-11 1L8.5 8.5l.94-2.06 2.06-.94-2.06-.94L8.5 2.5l-.94 2.06-2.06.94zm10 10l.94 2.06.94-2.06 2.06-.94-2.06-.94-.94-2.06-.94 2.06-2.06.94z\"/><path d=\"M17.41 7.96l-1.37-1.37c-.4-.4-.92-.59-1.43-.59-.52 0-1.04.2-1.43.59L10.3 9.45l-7.72 7.72c-.78.78-.78 2.05 0 2.83L4 21.41c.39.39.9.59 1.41.59.51 0 1.02-.2 1.41-.59l7.78-7.78 2.81-2.81c.8-.78.8-2.07 0-2.86zM5.41 20L4 18.59l7.72-7.72 1.47 1.35L5.41 20z\"/>\n",
              "  </svg>\n",
              "      </button>\n",
              "      \n",
              "  <style>\n",
              "    .colab-df-container {\n",
              "      display:flex;\n",
              "      flex-wrap:wrap;\n",
              "      gap: 12px;\n",
              "    }\n",
              "\n",
              "    .colab-df-convert {\n",
              "      background-color: #E8F0FE;\n",
              "      border: none;\n",
              "      border-radius: 50%;\n",
              "      cursor: pointer;\n",
              "      display: none;\n",
              "      fill: #1967D2;\n",
              "      height: 32px;\n",
              "      padding: 0 0 0 0;\n",
              "      width: 32px;\n",
              "    }\n",
              "\n",
              "    .colab-df-convert:hover {\n",
              "      background-color: #E2EBFA;\n",
              "      box-shadow: 0px 1px 2px rgba(60, 64, 67, 0.3), 0px 1px 3px 1px rgba(60, 64, 67, 0.15);\n",
              "      fill: #174EA6;\n",
              "    }\n",
              "\n",
              "    [theme=dark] .colab-df-convert {\n",
              "      background-color: #3B4455;\n",
              "      fill: #D2E3FC;\n",
              "    }\n",
              "\n",
              "    [theme=dark] .colab-df-convert:hover {\n",
              "      background-color: #434B5C;\n",
              "      box-shadow: 0px 1px 3px 1px rgba(0, 0, 0, 0.15);\n",
              "      filter: drop-shadow(0px 1px 2px rgba(0, 0, 0, 0.3));\n",
              "      fill: #FFFFFF;\n",
              "    }\n",
              "  </style>\n",
              "\n",
              "      <script>\n",
              "        const buttonEl =\n",
              "          document.querySelector('#df-421b0340-77d8-48f6-89ba-3c767c6b4ae0 button.colab-df-convert');\n",
              "        buttonEl.style.display =\n",
              "          google.colab.kernel.accessAllowed ? 'block' : 'none';\n",
              "\n",
              "        async function convertToInteractive(key) {\n",
              "          const element = document.querySelector('#df-421b0340-77d8-48f6-89ba-3c767c6b4ae0');\n",
              "          const dataTable =\n",
              "            await google.colab.kernel.invokeFunction('convertToInteractive',\n",
              "                                                     [key], {});\n",
              "          if (!dataTable) return;\n",
              "\n",
              "          const docLinkHtml = 'Like what you see? Visit the ' +\n",
              "            '<a target=\"_blank\" href=https://colab.research.google.com/notebooks/data_table.ipynb>data table notebook</a>'\n",
              "            + ' to learn more about interactive tables.';\n",
              "          element.innerHTML = '';\n",
              "          dataTable['output_type'] = 'display_data';\n",
              "          await google.colab.output.renderOutput(dataTable, element);\n",
              "          const docLink = document.createElement('div');\n",
              "          docLink.innerHTML = docLinkHtml;\n",
              "          element.appendChild(docLink);\n",
              "        }\n",
              "      </script>\n",
              "    </div>\n",
              "  </div>\n",
              "  "
            ]
          },
          "metadata": {},
          "execution_count": 15
        }
      ]
    },
    {
      "cell_type": "code",
      "source": [
        "dataset.tail(20)"
      ],
      "metadata": {
        "colab": {
          "base_uri": "https://localhost:8080/",
          "height": 676
        },
        "id": "rwfiqxLfXmsx",
        "outputId": "02fea2ad-5715-48e0-810f-d2ef496fda08"
      },
      "execution_count": null,
      "outputs": [
        {
          "output_type": "execute_result",
          "data": {
            "text/plain": [
              "                                                Review  Liked\n",
              "980  I have been to very few places to eat that und...      0\n",
              "981  We started with the tuna sashimi which was bro...      0\n",
              "982                            Food was below average.      0\n",
              "983  It sure does beat the nachos at the movies but...      0\n",
              "984       All in all, Ha Long Bay was a bit of a flop.      0\n",
              "985  The problem I have is that they charge $11.99 ...      0\n",
              "986  Shrimp- When I unwrapped it (I live only 1/2 a...      0\n",
              "987     It lacked flavor, seemed undercooked, and dry.      0\n",
              "988  It really is impressive that the place hasn't ...      0\n",
              "989  I would avoid this place if you are staying in...      0\n",
              "990  The refried beans that came with my meal were ...      0\n",
              "991         Spend your money and time some place else.      0\n",
              "992  A lady at the table next to us found a live gr...      0\n",
              "993            the presentation of the food was awful.      0\n",
              "994           I can't tell you how disappointed I was.      0\n",
              "995  I think food should have flavor and texture an...      0\n",
              "996                           Appetite instantly gone.      0\n",
              "997  Overall I was not impressed and would not go b...      0\n",
              "998  The whole experience was underwhelming, and I ...      0\n",
              "999  Then, as if I hadn't wasted enough of my life ...      0"
            ],
            "text/html": [
              "\n",
              "  <div id=\"df-ae120532-5038-495e-b658-e1c7740a9a54\">\n",
              "    <div class=\"colab-df-container\">\n",
              "      <div>\n",
              "<style scoped>\n",
              "    .dataframe tbody tr th:only-of-type {\n",
              "        vertical-align: middle;\n",
              "    }\n",
              "\n",
              "    .dataframe tbody tr th {\n",
              "        vertical-align: top;\n",
              "    }\n",
              "\n",
              "    .dataframe thead th {\n",
              "        text-align: right;\n",
              "    }\n",
              "</style>\n",
              "<table border=\"1\" class=\"dataframe\">\n",
              "  <thead>\n",
              "    <tr style=\"text-align: right;\">\n",
              "      <th></th>\n",
              "      <th>Review</th>\n",
              "      <th>Liked</th>\n",
              "    </tr>\n",
              "  </thead>\n",
              "  <tbody>\n",
              "    <tr>\n",
              "      <th>980</th>\n",
              "      <td>I have been to very few places to eat that und...</td>\n",
              "      <td>0</td>\n",
              "    </tr>\n",
              "    <tr>\n",
              "      <th>981</th>\n",
              "      <td>We started with the tuna sashimi which was bro...</td>\n",
              "      <td>0</td>\n",
              "    </tr>\n",
              "    <tr>\n",
              "      <th>982</th>\n",
              "      <td>Food was below average.</td>\n",
              "      <td>0</td>\n",
              "    </tr>\n",
              "    <tr>\n",
              "      <th>983</th>\n",
              "      <td>It sure does beat the nachos at the movies but...</td>\n",
              "      <td>0</td>\n",
              "    </tr>\n",
              "    <tr>\n",
              "      <th>984</th>\n",
              "      <td>All in all, Ha Long Bay was a bit of a flop.</td>\n",
              "      <td>0</td>\n",
              "    </tr>\n",
              "    <tr>\n",
              "      <th>985</th>\n",
              "      <td>The problem I have is that they charge $11.99 ...</td>\n",
              "      <td>0</td>\n",
              "    </tr>\n",
              "    <tr>\n",
              "      <th>986</th>\n",
              "      <td>Shrimp- When I unwrapped it (I live only 1/2 a...</td>\n",
              "      <td>0</td>\n",
              "    </tr>\n",
              "    <tr>\n",
              "      <th>987</th>\n",
              "      <td>It lacked flavor, seemed undercooked, and dry.</td>\n",
              "      <td>0</td>\n",
              "    </tr>\n",
              "    <tr>\n",
              "      <th>988</th>\n",
              "      <td>It really is impressive that the place hasn't ...</td>\n",
              "      <td>0</td>\n",
              "    </tr>\n",
              "    <tr>\n",
              "      <th>989</th>\n",
              "      <td>I would avoid this place if you are staying in...</td>\n",
              "      <td>0</td>\n",
              "    </tr>\n",
              "    <tr>\n",
              "      <th>990</th>\n",
              "      <td>The refried beans that came with my meal were ...</td>\n",
              "      <td>0</td>\n",
              "    </tr>\n",
              "    <tr>\n",
              "      <th>991</th>\n",
              "      <td>Spend your money and time some place else.</td>\n",
              "      <td>0</td>\n",
              "    </tr>\n",
              "    <tr>\n",
              "      <th>992</th>\n",
              "      <td>A lady at the table next to us found a live gr...</td>\n",
              "      <td>0</td>\n",
              "    </tr>\n",
              "    <tr>\n",
              "      <th>993</th>\n",
              "      <td>the presentation of the food was awful.</td>\n",
              "      <td>0</td>\n",
              "    </tr>\n",
              "    <tr>\n",
              "      <th>994</th>\n",
              "      <td>I can't tell you how disappointed I was.</td>\n",
              "      <td>0</td>\n",
              "    </tr>\n",
              "    <tr>\n",
              "      <th>995</th>\n",
              "      <td>I think food should have flavor and texture an...</td>\n",
              "      <td>0</td>\n",
              "    </tr>\n",
              "    <tr>\n",
              "      <th>996</th>\n",
              "      <td>Appetite instantly gone.</td>\n",
              "      <td>0</td>\n",
              "    </tr>\n",
              "    <tr>\n",
              "      <th>997</th>\n",
              "      <td>Overall I was not impressed and would not go b...</td>\n",
              "      <td>0</td>\n",
              "    </tr>\n",
              "    <tr>\n",
              "      <th>998</th>\n",
              "      <td>The whole experience was underwhelming, and I ...</td>\n",
              "      <td>0</td>\n",
              "    </tr>\n",
              "    <tr>\n",
              "      <th>999</th>\n",
              "      <td>Then, as if I hadn't wasted enough of my life ...</td>\n",
              "      <td>0</td>\n",
              "    </tr>\n",
              "  </tbody>\n",
              "</table>\n",
              "</div>\n",
              "      <button class=\"colab-df-convert\" onclick=\"convertToInteractive('df-ae120532-5038-495e-b658-e1c7740a9a54')\"\n",
              "              title=\"Convert this dataframe to an interactive table.\"\n",
              "              style=\"display:none;\">\n",
              "        \n",
              "  <svg xmlns=\"http://www.w3.org/2000/svg\" height=\"24px\"viewBox=\"0 0 24 24\"\n",
              "       width=\"24px\">\n",
              "    <path d=\"M0 0h24v24H0V0z\" fill=\"none\"/>\n",
              "    <path d=\"M18.56 5.44l.94 2.06.94-2.06 2.06-.94-2.06-.94-.94-2.06-.94 2.06-2.06.94zm-11 1L8.5 8.5l.94-2.06 2.06-.94-2.06-.94L8.5 2.5l-.94 2.06-2.06.94zm10 10l.94 2.06.94-2.06 2.06-.94-2.06-.94-.94-2.06-.94 2.06-2.06.94z\"/><path d=\"M17.41 7.96l-1.37-1.37c-.4-.4-.92-.59-1.43-.59-.52 0-1.04.2-1.43.59L10.3 9.45l-7.72 7.72c-.78.78-.78 2.05 0 2.83L4 21.41c.39.39.9.59 1.41.59.51 0 1.02-.2 1.41-.59l7.78-7.78 2.81-2.81c.8-.78.8-2.07 0-2.86zM5.41 20L4 18.59l7.72-7.72 1.47 1.35L5.41 20z\"/>\n",
              "  </svg>\n",
              "      </button>\n",
              "      \n",
              "  <style>\n",
              "    .colab-df-container {\n",
              "      display:flex;\n",
              "      flex-wrap:wrap;\n",
              "      gap: 12px;\n",
              "    }\n",
              "\n",
              "    .colab-df-convert {\n",
              "      background-color: #E8F0FE;\n",
              "      border: none;\n",
              "      border-radius: 50%;\n",
              "      cursor: pointer;\n",
              "      display: none;\n",
              "      fill: #1967D2;\n",
              "      height: 32px;\n",
              "      padding: 0 0 0 0;\n",
              "      width: 32px;\n",
              "    }\n",
              "\n",
              "    .colab-df-convert:hover {\n",
              "      background-color: #E2EBFA;\n",
              "      box-shadow: 0px 1px 2px rgba(60, 64, 67, 0.3), 0px 1px 3px 1px rgba(60, 64, 67, 0.15);\n",
              "      fill: #174EA6;\n",
              "    }\n",
              "\n",
              "    [theme=dark] .colab-df-convert {\n",
              "      background-color: #3B4455;\n",
              "      fill: #D2E3FC;\n",
              "    }\n",
              "\n",
              "    [theme=dark] .colab-df-convert:hover {\n",
              "      background-color: #434B5C;\n",
              "      box-shadow: 0px 1px 3px 1px rgba(0, 0, 0, 0.15);\n",
              "      filter: drop-shadow(0px 1px 2px rgba(0, 0, 0, 0.3));\n",
              "      fill: #FFFFFF;\n",
              "    }\n",
              "  </style>\n",
              "\n",
              "      <script>\n",
              "        const buttonEl =\n",
              "          document.querySelector('#df-ae120532-5038-495e-b658-e1c7740a9a54 button.colab-df-convert');\n",
              "        buttonEl.style.display =\n",
              "          google.colab.kernel.accessAllowed ? 'block' : 'none';\n",
              "\n",
              "        async function convertToInteractive(key) {\n",
              "          const element = document.querySelector('#df-ae120532-5038-495e-b658-e1c7740a9a54');\n",
              "          const dataTable =\n",
              "            await google.colab.kernel.invokeFunction('convertToInteractive',\n",
              "                                                     [key], {});\n",
              "          if (!dataTable) return;\n",
              "\n",
              "          const docLinkHtml = 'Like what you see? Visit the ' +\n",
              "            '<a target=\"_blank\" href=https://colab.research.google.com/notebooks/data_table.ipynb>data table notebook</a>'\n",
              "            + ' to learn more about interactive tables.';\n",
              "          element.innerHTML = '';\n",
              "          dataTable['output_type'] = 'display_data';\n",
              "          await google.colab.output.renderOutput(dataTable, element);\n",
              "          const docLink = document.createElement('div');\n",
              "          docLink.innerHTML = docLinkHtml;\n",
              "          element.appendChild(docLink);\n",
              "        }\n",
              "      </script>\n",
              "    </div>\n",
              "  </div>\n",
              "  "
            ]
          },
          "metadata": {},
          "execution_count": 17
        }
      ]
    },
    {
      "cell_type": "code",
      "source": [
        "dataset.describe()\n"
      ],
      "metadata": {
        "colab": {
          "base_uri": "https://localhost:8080/",
          "height": 300
        },
        "id": "TelFdYRiYxXD",
        "outputId": "6193b214-0dff-4c99-9650-d0d8c9c0a25c"
      },
      "execution_count": null,
      "outputs": [
        {
          "output_type": "execute_result",
          "data": {
            "text/plain": [
              "            Liked\n",
              "count  1000.00000\n",
              "mean      0.50000\n",
              "std       0.50025\n",
              "min       0.00000\n",
              "25%       0.00000\n",
              "50%       0.50000\n",
              "75%       1.00000\n",
              "max       1.00000"
            ],
            "text/html": [
              "\n",
              "  <div id=\"df-d5417ef1-1f5e-4b5e-ba8c-d47a0cb57db0\">\n",
              "    <div class=\"colab-df-container\">\n",
              "      <div>\n",
              "<style scoped>\n",
              "    .dataframe tbody tr th:only-of-type {\n",
              "        vertical-align: middle;\n",
              "    }\n",
              "\n",
              "    .dataframe tbody tr th {\n",
              "        vertical-align: top;\n",
              "    }\n",
              "\n",
              "    .dataframe thead th {\n",
              "        text-align: right;\n",
              "    }\n",
              "</style>\n",
              "<table border=\"1\" class=\"dataframe\">\n",
              "  <thead>\n",
              "    <tr style=\"text-align: right;\">\n",
              "      <th></th>\n",
              "      <th>Liked</th>\n",
              "    </tr>\n",
              "  </thead>\n",
              "  <tbody>\n",
              "    <tr>\n",
              "      <th>count</th>\n",
              "      <td>1000.00000</td>\n",
              "    </tr>\n",
              "    <tr>\n",
              "      <th>mean</th>\n",
              "      <td>0.50000</td>\n",
              "    </tr>\n",
              "    <tr>\n",
              "      <th>std</th>\n",
              "      <td>0.50025</td>\n",
              "    </tr>\n",
              "    <tr>\n",
              "      <th>min</th>\n",
              "      <td>0.00000</td>\n",
              "    </tr>\n",
              "    <tr>\n",
              "      <th>25%</th>\n",
              "      <td>0.00000</td>\n",
              "    </tr>\n",
              "    <tr>\n",
              "      <th>50%</th>\n",
              "      <td>0.50000</td>\n",
              "    </tr>\n",
              "    <tr>\n",
              "      <th>75%</th>\n",
              "      <td>1.00000</td>\n",
              "    </tr>\n",
              "    <tr>\n",
              "      <th>max</th>\n",
              "      <td>1.00000</td>\n",
              "    </tr>\n",
              "  </tbody>\n",
              "</table>\n",
              "</div>\n",
              "      <button class=\"colab-df-convert\" onclick=\"convertToInteractive('df-d5417ef1-1f5e-4b5e-ba8c-d47a0cb57db0')\"\n",
              "              title=\"Convert this dataframe to an interactive table.\"\n",
              "              style=\"display:none;\">\n",
              "        \n",
              "  <svg xmlns=\"http://www.w3.org/2000/svg\" height=\"24px\"viewBox=\"0 0 24 24\"\n",
              "       width=\"24px\">\n",
              "    <path d=\"M0 0h24v24H0V0z\" fill=\"none\"/>\n",
              "    <path d=\"M18.56 5.44l.94 2.06.94-2.06 2.06-.94-2.06-.94-.94-2.06-.94 2.06-2.06.94zm-11 1L8.5 8.5l.94-2.06 2.06-.94-2.06-.94L8.5 2.5l-.94 2.06-2.06.94zm10 10l.94 2.06.94-2.06 2.06-.94-2.06-.94-.94-2.06-.94 2.06-2.06.94z\"/><path d=\"M17.41 7.96l-1.37-1.37c-.4-.4-.92-.59-1.43-.59-.52 0-1.04.2-1.43.59L10.3 9.45l-7.72 7.72c-.78.78-.78 2.05 0 2.83L4 21.41c.39.39.9.59 1.41.59.51 0 1.02-.2 1.41-.59l7.78-7.78 2.81-2.81c.8-.78.8-2.07 0-2.86zM5.41 20L4 18.59l7.72-7.72 1.47 1.35L5.41 20z\"/>\n",
              "  </svg>\n",
              "      </button>\n",
              "      \n",
              "  <style>\n",
              "    .colab-df-container {\n",
              "      display:flex;\n",
              "      flex-wrap:wrap;\n",
              "      gap: 12px;\n",
              "    }\n",
              "\n",
              "    .colab-df-convert {\n",
              "      background-color: #E8F0FE;\n",
              "      border: none;\n",
              "      border-radius: 50%;\n",
              "      cursor: pointer;\n",
              "      display: none;\n",
              "      fill: #1967D2;\n",
              "      height: 32px;\n",
              "      padding: 0 0 0 0;\n",
              "      width: 32px;\n",
              "    }\n",
              "\n",
              "    .colab-df-convert:hover {\n",
              "      background-color: #E2EBFA;\n",
              "      box-shadow: 0px 1px 2px rgba(60, 64, 67, 0.3), 0px 1px 3px 1px rgba(60, 64, 67, 0.15);\n",
              "      fill: #174EA6;\n",
              "    }\n",
              "\n",
              "    [theme=dark] .colab-df-convert {\n",
              "      background-color: #3B4455;\n",
              "      fill: #D2E3FC;\n",
              "    }\n",
              "\n",
              "    [theme=dark] .colab-df-convert:hover {\n",
              "      background-color: #434B5C;\n",
              "      box-shadow: 0px 1px 3px 1px rgba(0, 0, 0, 0.15);\n",
              "      filter: drop-shadow(0px 1px 2px rgba(0, 0, 0, 0.3));\n",
              "      fill: #FFFFFF;\n",
              "    }\n",
              "  </style>\n",
              "\n",
              "      <script>\n",
              "        const buttonEl =\n",
              "          document.querySelector('#df-d5417ef1-1f5e-4b5e-ba8c-d47a0cb57db0 button.colab-df-convert');\n",
              "        buttonEl.style.display =\n",
              "          google.colab.kernel.accessAllowed ? 'block' : 'none';\n",
              "\n",
              "        async function convertToInteractive(key) {\n",
              "          const element = document.querySelector('#df-d5417ef1-1f5e-4b5e-ba8c-d47a0cb57db0');\n",
              "          const dataTable =\n",
              "            await google.colab.kernel.invokeFunction('convertToInteractive',\n",
              "                                                     [key], {});\n",
              "          if (!dataTable) return;\n",
              "\n",
              "          const docLinkHtml = 'Like what you see? Visit the ' +\n",
              "            '<a target=\"_blank\" href=https://colab.research.google.com/notebooks/data_table.ipynb>data table notebook</a>'\n",
              "            + ' to learn more about interactive tables.';\n",
              "          element.innerHTML = '';\n",
              "          dataTable['output_type'] = 'display_data';\n",
              "          await google.colab.output.renderOutput(dataTable, element);\n",
              "          const docLink = document.createElement('div');\n",
              "          docLink.innerHTML = docLinkHtml;\n",
              "          element.appendChild(docLink);\n",
              "        }\n",
              "      </script>\n",
              "    </div>\n",
              "  </div>\n",
              "  "
            ]
          },
          "metadata": {},
          "execution_count": 18
        }
      ]
    },
    {
      "cell_type": "code",
      "source": [
        "plt.plot(dataset.Liked)"
      ],
      "metadata": {
        "colab": {
          "base_uri": "https://localhost:8080/",
          "height": 282
        },
        "id": "Rn-pusEsY0Xc",
        "outputId": "995d87ea-0578-447e-a401-03ba6f279e22"
      },
      "execution_count": null,
      "outputs": [
        {
          "output_type": "execute_result",
          "data": {
            "text/plain": [
              "[<matplotlib.lines.Line2D at 0x7fabac6a59d0>]"
            ]
          },
          "metadata": {},
          "execution_count": 19
        },
        {
          "output_type": "display_data",
          "data": {
            "text/plain": [
              "<Figure size 432x288 with 1 Axes>"
            ],
            "image/png": "[encoded data removed]"
          },
          "metadata": {
            "needs_background": "light"
          }
        }
      ]
    },
    {
      "cell_type": "code",
      "source": [
        "man = dataset.Liked<1\n"
      ],
      "metadata": {
        "id": "NHdhZEpzY2b5"
      },
      "execution_count": null,
      "outputs": []
    },
    {
      "cell_type": "code",
      "source": [
        "man.head(10)\n"
      ],
      "metadata": {
        "colab": {
          "base_uri": "https://localhost:8080/"
        },
        "id": "7a01sxf6Y4YW",
        "outputId": "3b587522-f7c9-4b12-c48f-ea9a02daddfb"
      },
      "execution_count": null,
      "outputs": [
        {
          "output_type": "execute_result",
          "data": {
            "text/plain": [
              "0    False\n",
              "1     True\n",
              "2     True\n",
              "3    False\n",
              "4    False\n",
              "5     True\n",
              "6     True\n",
              "7     True\n",
              "8    False\n",
              "9    False\n",
              "Name: Liked, dtype: bool"
            ]
          },
          "metadata": {},
          "execution_count": 21
        }
      ]
    },
    {
      "cell_type": "code",
      "source": [
        "man\n"
      ],
      "metadata": {
        "colab": {
          "base_uri": "https://localhost:8080/"
        },
        "id": "XJ2roUKCY5i_",
        "outputId": "265e0995-6f22-4713-c9ae-f6a8ee59d321"
      },
      "execution_count": null,
      "outputs": [
        {
          "output_type": "execute_result",
          "data": {
            "text/plain": [
              "0      False\n",
              "1       True\n",
              "2       True\n",
              "3      False\n",
              "4      False\n",
              "       ...  \n",
              "995     True\n",
              "996     True\n",
              "997     True\n",
              "998     True\n",
              "999     True\n",
              "Name: Liked, Length: 1000, dtype: bool"
            ]
          },
          "metadata": {},
          "execution_count": 22
        }
      ]
    },
    {
      "cell_type": "code",
      "source": [
        "import re\n",
        "import nltk \n",
        "nltk.download(\"stopwords\")\n",
        "from nltk.corpus import stopwords\n",
        "from nltk.stem.porter import PorterStemmer\n",
        "\n",
        "corpus = []\n",
        "\n",
        "#len(dataset)\n",
        "\n",
        "for i in range (0,len(dataset)):\n",
        "  \n",
        "  #replace every character other than alpahbets with a space and convert all the letters into lowercase and split each word and\n",
        "  #put into the list \n",
        "\n",
        "  review = re.sub('[^a-zA-z]',' ',dataset['Review'][i])\n",
        "  review = review.lower()\n",
        "  review = review.split()\n",
        "\n",
        "  #next step is stemming , which is replacing every word with its root word , for example, replace loved and loving with love\n",
        "  #Also remove all the stopwords , by doing above operation , we can reduce the dimension of vector in our bag of words model\n",
        "\n",
        "  all_stopwords = stopwords.words('english')\n",
        "  all_stopwords.remove('not')\n",
        "\n",
        "  ps = PorterStemmer()\n",
        "  cleanedData = ''\n",
        "  for word in review :\n",
        "    if word not in set(all_stopwords):\n",
        "      cleanedData += \" \" + (ps.stem(word))\n",
        "  corpus.append(cleanedData)"
      ],
      "metadata": {
        "colab": {
          "base_uri": "https://localhost:8080/"
        },
        "id": "-_5mz8jkY7GZ",
        "outputId": "581f297b-96b9-4a30-e175-6e70a27ef1f5"
      },
      "execution_count": null,
      "outputs": [
        {
          "output_type": "stream",
          "name": "stderr",
          "text": [
            "[nltk_data] Downloading package stopwords to /root/nltk_data...\n",
            "[nltk_data]   Package stopwords is already up-to-date!\n"
          ]
        }
      ]
    },
    {
      "cell_type": "code",
      "source": [
        "\n",
        "print(corpus)"
      ],
      "metadata": {
        "colab": {
          "base_uri": "https://localhost:8080/"
        },
        "id": "3Z7D9xWIZDbZ",
        "outputId": "abdfd06c-e00a-46de-9470-34c9f61494cd"
      },
      "execution_count": null,
      "outputs": [
        {
          "output_type": "stream",
          "name": "stdout",
          "text": [
            "[' wow love place', ' crust not good', ' not tasti textur nasti', ' stop late may bank holiday rick steve recommend love', ' select menu great price', ' get angri want damn pho', ' honeslti tast fresh', ' potato like rubber could tell made ahead time kept warmer', ' fri great', ' great touch', ' servic prompt', ' would not go back', ' cashier care ever say still end wayyy overpr', ' tri cape cod ravoli chicken cranberri mmmm', ' disgust pretti sure human hair', ' shock sign indic cash', ' highli recommend', ' waitress littl slow servic', ' place not worth time let alon vega', ' not like', ' burritto blah', ' food amaz', ' servic also cute', ' could care less interior beauti', ' perform', ' right red velvet cake ohhh stuff good', ' never brought salad ask', ' hole wall great mexican street taco friendli staff', ' took hour get food tabl restaur food luke warm sever run around like total overwhelm', ' worst salmon sashimi', ' also combo like burger fri beer decent deal', ' like final blow', ' found place accid could not happier', ' seem like good quick place grab bite familiar pub food favor look elsewher', ' overal like place lot', ' redeem qualiti restaur inexpens', ' ampl portion good price', ' poor servic waiter made feel like stupid everi time came tabl', ' first visit hiro delight', ' servic suck', ' shrimp tender moist', ' not deal good enough would drag establish', ' hard judg whether side good gross melt styrofoam want eat fear get sick', ' posit note server attent provid great servic', ' frozen puck disgust worst peopl behind regist', ' thing like prime rib dessert section', ' bad food damn gener', ' burger good beef cook right', ' want sandwich go firehous', ' side greek salad greek dress tasti pita hummu refresh', ' order duck rare pink tender insid nice char outsid', ' came run us realiz husband left sunglass tabl', ' chow mein good', ' horribl attitud toward custom talk one custom enjoy food', ' portion huge', ' love friendli server great food wonder imagin menu', ' heart attack grill downtown vega absolut flat line excus restaur', ' not much seafood like string pasta bottom', ' salad right amount sauc not power scallop perfectli cook', ' rip banana not rip petrifi tasteless', ' least think refil water struggl wave minut', ' place receiv star appet', ' cocktail handmad delici', ' definit go back', ' glad found place', ' great food servic huge portion give militari discount', ' alway great time do gringo', ' updat went back second time still amaz', ' got food appar never heard salt batter fish chewi', ' great way finish great', ' deal includ tast drink jeff went beyond expect', ' realli realli good rice time', ' servic meh', ' took min get milkshak noth chocol milk', ' guess known place would suck insid excalibur use common sens', ' scallop dish quit appal valu well', ' time bad custom servic', ' sweet potato fri good season well', ' today second time lunch buffet pretti good', ' much good food vega feel cheat wast eat opportun go rice compani', ' come like experienc underwhelm relationship parti wait person ask break', ' walk place smell like old greas trap other eat', ' turkey roast beef bland', ' place', ' pan cake everyon rave tast like sugari disast tailor palat six year old', ' love pho spring roll oh yummi tri', ' poor batter meat ratio made chicken tender unsatisfi', ' say food amaz', ' omelet die', ' everyth fresh delici', ' summari larg disappoint dine experi', ' like realli sexi parti mouth outrag flirt hottest person parti', ' never hard rock casino never ever step forward', ' best breakfast buffet', ' say bye bye tip ladi', ' never go', ' back', ' food arriv quickli', ' not good', ' side cafe serv realli good food', ' server fantast found wife love roast garlic bone marrow ad extra meal anoth marrow go', ' good thing waiter help kept bloddi mari come', ' best buffet town price cannot beat', ' love mussel cook wine reduct duck tender potato dish delici', ' one better buffet', ' went tigerlilli fantast afternoon', ' food delici bartend attent person got great deal', ' ambienc wonder music play', ' go back next trip', ' sooooo good', ' real sushi lover let honest yama not good', ' least min pass us order food arriv busi', ' realli fantast thai restaur definit worth visit', ' nice spici tender', ' good price', ' check', ' pretti gross', ' better atmospher', ' kind hard mess steak', ' although much like look sound place actual experi bit disappoint', ' know place manag serv blandest food ever eaten prepar indian cuisin', ' worst servic boot least worri', ' servic fine waitress friendli', ' guy steak steak love son steak best worst place said best steak ever eaten', ' thought ventur away get good sushi place realli hit spot night', ' host staff lack better word bitch', ' bland not like place number reason want wast time bad review leav', ' phenomen food servic ambianc', ' return', ' definit worth ventur strip pork belli return next time vega', ' place way overpr mediocr food', ' penn vodka excel', ' good select food includ massiv meatloaf sandwich crispi chicken wrap delish tuna melt tasti burger', ' manag rude', ' delici nyc bagel good select cream chees real lox caper even', ' great subway fact good come everi subway not meet expect', ' serious solid breakfast', ' one best bar food vega', ' extrem rude realli mani restaur would love dine weekend vega', ' drink never empti made realli great menu suggest', '', ' waiter help friendli rare check us', ' husband ate lunch disappoint food servic', ' red curri much bamboo shoot tasti', ' nice blanket moz top feel like done cover subpar food', ' bathroom clean place well decor', ' menu alway chang food qualiti go servic extrem slow', ' servic littl slow consid serv peopl server food come slow pace', ' give thumb', ' watch waiter pay lot attent tabl ignor us', ' fianc came middl day greet seat right away', ' great restaur mandalay bay', ' wait forti five minut vain', ' crostini came salad stale', ' highlight great qualiti nigiri', ' staff friendli joint alway clean', ' differ cut piec day still wonder tender well well flavor', ' order voodoo pasta first time realli excel pasta sinc go gluten free sever year ago', ' place good', ' unfortun must hit bakeri leftov day everyth order stale', ' came back today sinc reloc still not impress', ' seat immedi', ' menu divers reason price', ' avoid cost', ' restaur alway full never wait', ' delici', ' place hand one best place eat phoenix metro area', ' go look good food', ' never treat bad', ' bacon hella salti', ' also order spinach avocado salad ingredi sad dress liter zero tast', ' realli vega fine dine use right menu hand ladi price list', ' waitress friendli', ' lordi khao soi dish not miss curri lover', ' everyth menu terrif also thrill made amaz accommod vegetarian daughter', ' perhap caught night judg review not inspir go back', ' servic leav lot desir', ' atmospher modern hip maintain touch cozi', ' not weekli haunt definit place come back everi', ' liter sat minut one ask take order', ' burger absolut flavor meat total bland burger overcook charcoal flavor', ' also decid not send back waitress look like verg heart attack', ' dress treat rude', ' probabl dirt', ' love place hit spot want someth healthi not lack quantiti flavor', ' order lemon raspberri ice cocktail also incred', ' food suck expect suck could imagin', ' interest decor', ' realli like crepe station', ' also serv hot bread butter home made potato chip bacon bit top origin good', ' watch prepar delici food', ' egg roll fantast', ' order arriv one gyro miss', ' salad wing ice cream dessert left feel quit satisfi', ' not realli sure joey vote best hot dog valley reader phoenix magazin', ' best place go tasti bowl pho', ' live music friday total blow', ' never insult felt disrespect', ' friendli staff', ' worth drive', ' heard good thing place exceed everi hope could dream', ' food great serivc', ' warm beer help', ' great brunch spot', ' servic friendli invit', ' good lunch spot', ' live sinc first last time step foot place', ' worst experi ever', ' must night place', ' side delish mix mushroom yukon gold pure white corn beateou', ' bug never show would given sure side wall bug climb kitchen', ' minut wait salad realiz come time soon', ' friend love salmon tartar', ' go back', ' extrem tasti', ' waitress good though', ' soggi not good', ' jamaican mojito delici', ' small not worth price', ' food rich order accordingli', ' shower area outsid rins not take full shower unless mind nude everyon see', ' servic bit lack', ' lobster bisqu bussel sprout risotto filet need salt pepper cours none tabl', ' hope bode go busi someon cook come', ' either cold not enough flavor bad', ' love bacon wrap date', ' unbeliev bargain', ' folk otto alway make us feel welcom special', ' main also uninspir', ' place first pho amaz', ' wonder experi made place must stop whenev town', ' food bad enough enjoy deal world worst annoy drunk peopl', ' fun chef', ' order doubl cheeseburg got singl patti fall apart pictur upload yeah still suck', ' great place coupl drink watch sport event wall cover tv', ' possibl give zero star', ' descript said yum yum sauc anoth said eel sauc yet anoth said spici mayo well none roll sauc', ' say would hardest decis honestli dish tast suppos tast amaz', ' not roll eye may stay not sure go back tri', ' everyon attent provid excel custom servic', ' horribl wast time money', ' dish quit flavour', ' time side restaur almost empti excus', ' busi either also build freez cold', ' like review said pay eat place', ' drink took close minut come one point', ' serious flavor delight folk', ' much better ayc sushi place went vega', ' light dark enough set mood', ' base sub par servic receiv effort show gratitud busi go back', ' owner realli great peopl', ' noth privileg work eat', ' greek dress creami flavor', ' overal think would take parent place made similar complaint silent felt', ' pizza good peanut sauc tasti', ' tabl servic pretti fast', ' fantast servic', ' well would given godfath zero star possibl', ' know make', ' tough short flavor', ' hope place stick around', ' bar vega not ever recal charg tap water', ' restaur atmospher exquisit', ' good servic clean inexpens boot', ' seafood fresh gener portion', ' plu buck', ' servic not par either', ' thu far visit twice food absolut delici time', ' good year ago', ' self proclaim coffe cafe wildli disappoint', ' veggitarian platter world', ' cant go wrong food', ' beat', ' stop place madison ironman friendli kind staff', ' chef friendli good job', ' better not dedic boba tea spot even jenni pho', ' like patio servic outstand', ' goat taco skimp meat wow flavor', ' think not', ' mac salad pretti bland not get', ' went bachi burger friend recommend not disappoint', ' servic stink', ' wait wait', ' place not qualiti sushi not qualiti restaur', ' would definit recommend wing well pizza', ' great pizza salad', ' thing went wrong burn saganaki', ' wait hour breakfast could done time better home', ' place amaz', ' hate disagre fellow yelper husband disappoint place', ' wait hour never got either pizza mani around us came later', ' know slow', ' staff great food delish incred beer select', ' live neighborhood disappoint back conveni locat', ' know pull pork could soooo delici', ' get incred fresh fish prepar care', ' go gave star rate pleas know third time eat bachi burger write review', ' love fact everyth menu worth', ' never dine place', ' food excel servic good', ' good beer drink select good food select', ' pleas stay away shrimp stir fri noodl', ' potato chip order sad could probabl count mani chip box probabl around', ' food realli bore', ' good servic check', ' greedi corpor never see anoth dime', ' never ever go back', ' much like go back get pass atroci servic never return', ' summer dine charm outdoor patio delight', ' not expect good', ' fantast food', ' order toast english muffin came untoast', ' food good', ' never go back', ' great food price high qualiti hous made', ' bu boy hand rude', ' point friend basic figur place joke mind make publicli loudli known', ' back good bbq lighter fare reason price tell public back old way', ' consid two us left full happi go wrong', ' bread made hous', ' downsid servic', ' also fri without doubt worst fri ever', ' servic except food good review', ' coupl month later return amaz meal', ' favorit place town shawarrrrrrma', ' black eye pea sweet potato unreal', ' disappoint', ' could serv vinaigrett may make better overal dish still good', ' go far mani place never seen restaur serv egg breakfast especi', ' mom got home immedi got sick bite salad', ' server not pleasant deal alway honor pizza hut coupon', ' truli unbeliev good glad went back', ' fantast servic pleas atmospher', ' everyth gross', ' love place', ' great servic food', ' first bathroom locat dirti seat cover not replenish plain yucki', ' burger got gold standard burger kind disappoint', ' omg food delicioso', ' noth authent place', ' spaghetti noth special whatsoev', ' dish salmon best great', ' veget fresh sauc feel like authent thai', ' worth drive tucson', ' select probabl worst seen vega none', ' pretti good beer select', ' place like chipotl better', ' classi warm atmospher fun fresh appet succul steak basebal steak', ' star brick oven bread app', ' eaten multipl time time food delici', ' sat anoth ten minut final gave left', ' terribl', ' everyon treat equal special', ' take min pancak egg', ' delici', ' good side staff genuin pleasant enthusiast real treat', ' sadli gordon ramsey steak place shall sharpli avoid next trip vega', ' alway even wonder food delici', ' best fish ever life', ' bathroom next door nice', ' buffet small food offer bland', ' outstand littl restaur best food ever tast', ' pretti cool would say', ' definit turn doubt back unless someon els buy', ' server great job handl larg rowdi tabl', ' find wast food despic food', ' wife lobster bisqu soup lukewarm', ' would come back sushi crave vega', ' staff great ambianc great', ' deserv star', ' left stomach ach felt sick rest day', ' drop ball', ' dine space tini elegantli decor comfort', ' custom order way like usual eggplant green bean stir fri love', ' bean rice mediocr best', ' best taco town far', ' took back money got outta', ' interest part town place amaz', ' rude inconsider manag', ' staff not friendli wait time serv horribl one even say hi first minut', ' back', ' great dinner', ' servic outshin definit recommend halibut', ' food terribl', ' never ever go back told mani peopl happen', ' recommend unless car break front starv', ' come back everi time vega', ' place deserv one star food', ' disgrac', ' def come back bowl next time', ' want healthi authent ethic food tri place', ' continu come ladi night andddd date night highli recommend place anyon area', ' sever time past experi alway great', ' walk away stuf happi first vega buffet experi', ' servic excel price pretti reason consid vega locat insid crystal shop mall aria', ' summar food incred nay transcend noth bring joy quit like memori pneumat condiment dispens', ' probabl one peopl ever go ian not like', ' kid pizza alway hit lot great side dish option kiddo', ' servic perfect famili atmospher nice see', ' cook perfect servic impecc', ' one simpli disappoint', ' overal disappoint qualiti food bouchon', ' account know get screw', ' great place eat remind littl mom pop shop san francisco bay area', ' today first tast buldogi gourmet hot dog tell ever thought possibl', ' left frustrat', ' definit soon', ' food realli good got full petti fast', ' servic fantast', ' total wast time', ' know kind best ice tea', ' come hungri leav happi stuf', ' servic give star', ' assur disappoint', ' take littl bad servic food suck', ' gave tri eat crust teeth still sore', ' complet gross', ' realli enjoy eat', ' first time go think quickli becom regular', ' server nice even though look littl overwhelm need stay profession friendli end', ' dinner companion told everyth fresh nice textur tast', ' ground right next tabl larg smear step track everywher pile green bird poop', ' furthermor even find hour oper websit', ' tri like place time think done', ' mistak', ' complaint', ' serious good pizza expert connisseur topic', ' waiter jerk', ' strike want rush', ' nicest restaur owner ever come across', ' never come', ' love biscuit', ' servic quick friendli', ' order appet took minut pizza anoth minut', ' absolutley fantast', ' huge awkward lb piec cow th gristl fat', ' definit come back', ' like steiner dark feel like bar', ' wow spici delici', ' not familiar check', ' take busi dinner dollar elsewher', ' love go back', ' anyway fs restaur wonder breakfast lunch', ' noth special', ' day week differ deal delici', ' not mention combin pear almond bacon big winner', ' not back', ' sauc tasteless', ' food delici spici enough sure ask spicier prefer way', ' ribey steak cook perfectli great mesquit flavor', ' think go back anytim soon', ' food gooodd', ' far sushi connoisseur definit tell differ good food bad food certainli bad food', ' insult', ' last time lunch bad', ' chicken wing contain driest chicken meat ever eaten', ' food good enjoy everi mouth enjoy relax venu coupl small famili group etc', ' nargil think great', ' best tater tot southwest', ' love place', ' definit not worth paid', ' vanilla ice cream creami smooth profiterol choux pastri fresh enough', ' im az time new spot', ' manag worst', ' insid realli quit nice clean', ' food outstand price reason', ' think run back carli anytim soon food', ' due fact took minut acknowledg anoth minut get food kept forget thing', ' love margarita', ' first vega buffet not disappoint', ' good though', ' one note ventil could use upgrad', ' great pork sandwich', ' wast time', ' total letdown would much rather go camelback flower shop cartel coffe', ' third chees friend burger cold', ' enjoy pizza brunch', ' steak well trim also perfectli cook', ' group claim would handl us beauti', ' love', ' ask bill leav without eat bring either', ' place jewel la vega exactli hope find nearli ten year live', ' seafood limit boil shrimp crab leg crab leg definit not tast fresh', ' select food not best', ' delici absolut back', ' small famili restaur fine dine establish', ' toro tartar cavier extraordinari like thinli slice wagyu white truffl', ' dont think back long time', ' attach ga station rare good sign', ' awesom', ' back mani time soon', ' menu much good stuff could not decid', ' wors humili worker right front bunch horribl name call', ' conclus fill meal', ' daili special alway hit group', ' tragedi struck', ' pancak also realli good pretti larg', ' first crawfish experi delici', ' monster chicken fri steak egg time favorit', ' waitress sweet funni', ' also tast mom multi grain pumpkin pancak pecan butter amaz fluffi delici', ' rather eat airlin food serious', ' cant say enough good thing place', ' ambianc incred', ' waitress manag friendli', ' would not recommend place', ' overal impress noca', ' gyro basic lettuc', ' terribl servic', ' thoroughli disappoint', ' much pasta love homemad hand made pasta thin pizza', ' give tri happi', ' far best cheesecurd ever', ' reason price also', ' everyth perfect night', ' food good typic bar food', ' drive get', ' first glanc love bakeri cafe nice ambianc clean friendli staff', ' anyway not think go back', ' point finger item menu order disappoint', ' oh thing beauti restaur', ' gone go', ' greasi unhealthi meal', ' first time might last', ' burger amaz', ' similarli deliveri man not say word apolog food minut late', ' way expens', ' sure order dessert even need pack go tiramisu cannoli die', ' first time wait next', ' bartend also nice', ' everyth good tasti', ' place two thumb way', ' best place vega breakfast check sat sun', ' love authent mexican food want whole bunch interest yet delici meat choos need tri place', ' terribl manag', ' excel new restaur experienc frenchman', ' zero star would give zero star', ' great steak great side great wine amaz dessert', ' worst martini ever', ' steak shrimp opinion best entre gc', ' opportun today sampl amaz pizza', ' wait thirti minut seat although vacant tabl folk wait', ' yellowtail carpaccio melt mouth fresh', ' tri go back even empti', ' go eat potato found stranger hair', ' spici enough perfect actual', ' last night second time dine happi decid go back', ' not even hello right', ' dessert bit strang', ' boyfriend came first time recent trip vega could not pleas qualiti food servic', ' realli recommend place go wrong donut place', ' nice ambianc', ' would recommend save room', ' guess mayb went night disgrac', ' howev recent experi particular locat not good', ' know not like restaur someth', ' avoid establish', ' think restaur suffer not tri hard enough', ' tapa dish delici', ' heart place', ' salad bland vinegrett babi green heart palm', ' two felt disgust', ' good time', ' believ place great stop huge belli hanker sushi', ' gener portion great tast', ' never go back place never ever recommend place anyon', ' server went back forth sever time not even much help', ' food delici', ' hour serious', ' consid theft', ' eew locat need complet overhaul', ' recent wit poor qualiti manag toward guest well', ' wait wait wait', ' also came back check us regularli excel servic', ' server super nice check us mani time', ' pizza tast old super chewi not good way', ' swung give tri deepli disappoint', ' servic good compani better', ' staff also friendli effici', ' servic fan quick serv nice folk', ' boy sucker dri', ' rate', ' look authent thai food go els', ' steak recommend', ' pull car wait anoth minut acknowledg', ' great food great servic clean friendli set', ' assur back', ' hate thing much cheap qualiti black oliv', ' breakfast perpar great beauti present giant slice toast lightli dust powder sugar', ' kid play area nasti', ' great place fo take eat', ' waitress friendli happi accomod vegan veggi option', ' omg felt like never eaten thai food dish', ' extrem crumbi pretti tasteless', ' pale color instead nice char flavor', ' crouton also tast homemad extra plu', ' got home see driest damn wing ever', ' regular stop trip phoenix', ' realli enjoy crema caf expand even told friend best breakfast', ' not good money', ' miss wish one philadelphia', ' got sit fairli fast end wait minut place order anoth minut food arriv', ' also best chees crisp town', ' good valu great food great servic', ' ask satisfi meal', ' food good', ' awesom', ' want leav', ' made drive way north scottsdal not one bit disappoint', ' not eat', ' owner realli realli need quit soooooo cheap let wrap freak sandwich two paper not one', ' check place coupl year ago not impress', ' chicken got definit reheat ok wedg cold soggi', ' sorri not get food anytim soon', ' absolut must visit', ' cow tongu cheek taco amaz', ' friend not like bloodi mari', ' despit hard rate busi actual rare give star', ' realli want make experi good one', ' not return', ' chicken pho tast bland', ' disappoint', ' grill chicken tender yellow saffron season', ' drive thru mean not want wait around half hour food somehow end go make us wait wait', ' pretti awesom place', ' ambienc perfect', ' best luck rude non custom servic focus new manag', ' grandmoth make roast chicken better one', ' ask multipl time wine list time ignor went hostess got one', ' staff alway super friendli help especi cool bring two small boy babi', ' four star food guy blue shirt great vibe still let us eat', ' roast beef sandwich tast realli good', ' even drastic sick', ' high qualiti chicken chicken caesar salad', ' order burger rare came done', ' promptli greet seat', ' tri go lunch madhous', ' proven dead wrong sushi bar not qualiti great servic fast food impecc', ' wait hour seat not greatest mood', ' good joint', ' macaron insan good', ' not eat', ' waiter attent friendli inform', ' mayb cold would somewhat edibl', ' place lot promis fail deliv', ' bad experi', ' mistak', ' food averag best', ' great food', ' go back anytim soon', ' disappoint order big bay plater', ' great place relax awesom burger beer', ' perfect sit famili meal get togeth friend', ' not much flavor poorli construct', ' patio seat comfort', ' fri rice dri well', ' hand favorit italian restaur', ' scream legit book somethat also pretti rare vega', ' not fun experi', ' atmospher great love duo violinist play song request', ' person love hummu pita baklava falafel baba ganoush amaz eggplant', ' conveni sinc stay mgm', ' owner super friendli staff courteou', ' great', ' eclect select', ' sweet potato tot good onion ring perfect close', ' staff attent', ' chef gener time even came around twice take pictur', ' owner use work nobu place realli similar half price', ' googl mediocr imagin smashburg pop', ' dont go', ' promis disappoint', ' sushi lover avoid place mean', ' great doubl cheeseburg', ' awesom servic food', ' fantast neighborhood gem', ' wait go back', ' plantain worst ever tast', ' great place highli recommend', ' servic slow not attent', ' gave star give star', ' staff spend time talk', ' dessert panna cotta amaz', ' good food great atmospher', ' damn good steak', ' total brunch fail', ' price reason flavor spot sauc home made slaw not drench mayo', ' decor nice piano music soundtrack pleasant', ' steak amaz rge fillet relleno best seafood plate ever', ' good food good servic', ' absolut amaz', ' probabl back honest', ' definit back', ' sergeant pepper beef sandwich auju sauc excel sandwich well', ' hawaiian breez mango magic pineappl delight smoothi tri far good', ' went lunch servic slow', ' much say place walk expect amaz quickli disappoint', ' mortifi', ' needless say never back', ' anyway food definit not fill price pay expect', ' chip came drip greas mostli not edibl', ' realli impress strip steak', ' go sinc everi meal awesom', ' server nice attent serv staff', ' cashier friendli even brought food', ' work hospit industri paradis valley refrain recommend cibo longer', ' atmospher fun', ' would not recommend other', ' servic quick even go order like like', ' mean realli get famou fish chip terribl', ' said mouth belli still quit pleas', ' not thing', ' thumb', ' read pleas go', ' love grill pizza remind legit italian pizza', ' pro larg seat area nice bar area great simpl drink menu best brick oven pizza homemad dough', ' realli nice atmospher', ' tonight elk filet special suck', ' one bite hook', ' order old classic new dish go time sore disappoint everyth', ' cute quaint simpl honest', ' chicken delici season perfect fri outsid moist chicken insid', ' food great alway compliment chef', ' special thank dylan recommend order yummi tummi', ' awesom select beer', ' great food awesom servic', ' one nice thing ad gratuiti bill sinc parti larger expect tip', ' fli appl juic fli', ' han nan chicken also tasti', ' servic thought good', ' food bare lukewarm must sit wait server bring us', ' ryan bar definit one edinburgh establish revisit', ' nicest chines restaur', ' overal like food servic', ' also serv indian naan bread hummu spici pine nut sauc world', ' probabl never come back recommend', ' friend pasta also bad bare touch', ' tri airport experi tasti food speedi friendli servic', ' love decor chines calligraphi wall paper', ' never anyth complain', ' restaur clean famili restaur feel', ' way fri', ' not sure long stood long enough begin feel awkwardli place', ' open sandwich impress not good way', ' not back', ' warm feel servic felt like guest special treat', ' extens menu provid lot option breakfast', ' alway order vegetarian menu dinner wide array option choos', ' watch price inflat portion get smaller manag attitud grow rapidli', ' wonder lil tapa ambienc made feel warm fuzzi insid', ' got enjoy seafood salad fabul vinegrett', ' wonton thin not thick chewi almost melt mouth', ' level spici perfect spice whelm soup', ' sat right time server get go fantast', ' main thing enjoy crowd older crowd around mid', ' side town definit spot hit', ' wait minut get drink longer get arepa', ' great place eat', ' jalapeno bacon soooo good', ' servic poor that nice', ' food good servic good price good', ' place not clean food oh stale', ' chicken dish ok beef like shoe leather', ' servic beyond bad', ' happi', ' tast like dirt', ' one place phoenix would defin go back', ' block amaz', ' close hous low key non fanci afford price good food', ' hot sour egg flower soup absolut star', ' sashimi poor qualiti soggi tasteless', ' great time famili dinner sunday night', ' food not tasti not say real tradit hunan style', ' bother slow servic', ' flair bartend absolut amaz', ' frozen margarita way sugari tast', ' good order twice', ' nutshel restaraunt smell like combin dirti fish market sewer', ' girlfriend veal bad', ' unfortun not good', ' pretti satifi experi', ' join club get awesom offer via email', ' perfect someon like beer ice cold case even colder', ' bland flavorless good way describ bare tepid meat', ' chain fan beat place easili', ' nacho must', ' not come back', ' mani word say place everyth pretti well', ' staff super nice quick even crazi crowd downtown juri lawyer court staff', ' great atmospher friendli fast servic', ' receiv pita huge lot meat thumb', ' food arriv meh', ' pay hot dog fri look like came kid meal wienerschnitzel not idea good meal', ' classic main lobster roll fantast', ' brother law work mall ate day guess sick night', ' good go review place twice herea tribut place tribut event held last night', ' chip salsa realli good salsa fresh', ' place great', ' mediocr food', ' get insid impress place', ' super pissd', ' servic super friendli', ' sad littl veget overcook', ' place nice surpris', ' golden crispi delici', ' high hope place sinc burger cook charcoal grill unfortun tast fell flat way flat', ' could eat bruschetta day devin', ' not singl employe came see ok even need water refil final serv us food', ' lastli mozzarella stick best thing order', ' first time ever came amaz experi still tell peopl awesom duck', ' server neglig need made us feel unwelcom would not suggest place', ' servic terribl though', ' place overpr not consist boba realli overpr', ' pack', ' love place', ' say dessert yummi', ' food terribl', ' season fruit fresh white peach pure', ' kept get wors wors offici done', ' place honestli blown', ' definit would not eat', ' not wast money', ' love put food nice plastic contain oppos cram littl paper takeout box', ' cr pe delic thin moist', ' aw servic', ' ever go', ' food qualiti horribl', ' price think place would much rather gone', ' servic fair best', ' love sushi found kabuki price hip servic', ' favor stay away dish', ' poor servic', ' one tabl thought food averag worth wait', ' best servic food ever maria server good friendli made day', ' excel', ' paid bill not tip felt server terribl job', ' lunch great experi', ' never bland food surpris consid articl read focus much spice flavor', ' food way overpr portion fuck small', ' recent tri caballero back everi week sinc', ' buck head realli expect better food', ' food came good pace', ' ate twice last visit especi enjoy salmon salad', ' back', ' could not believ dirti oyster', ' place deserv star', ' would not recommend place', ' fact go round star awesom', ' disbelief dish qualifi worst version food ever tast', ' bad day not low toler rude custom servic peopl job nice polit wash dish otherwis', ' potato great biscuit', ' probabl would not go', ' flavor perfect amount heat', ' price reason servic great', ' wife hate meal coconut shrimp friend realli not enjoy meal either', ' fella got huevo ranchero look appeal', ' went happi hour great list wine', ' may say buffet pricey think get pay place get quit lot', ' probabl come back', ' worst food servic', ' place pretti good nice littl vibe restaur', ' talk great custom servic cours back', ' hot dish not hot cold dish close room temp watch staff prepar food bare hand glove everyth deep fri oil', ' love fri bean', ' alway pleasur deal', ' plethora salad sandwich everyth tri get seal approv', ' place awesom want someth light healthi summer', ' sushi strip place go', ' servic great even manag came help tabl', ' feel dine room colleg cook cours high class dine servic slow best', ' start review two star edit give one', ' worst sushi ever eat besid costco', ' excel restaur highlight great servic uniqu menu beauti set', ' boyfriend sat bar complet delight experi', ' weird vibe owner', ' hardli meat', ' better bagel groceri store', ' go place gyro', ' love owner chef one authent japanes cool dude', ' burger good pizza use amaz doughi flavorless', ' found six inch long piec wire salsa', ' servic terribl food mediocr', ' defin enjoy', ' order albondiga soup warm tast like tomato soup frozen meatbal', ' three differ occas ask well done medium well three time got bloodiest piec meat plate', ' two bite refus eat anymor', ' servic extrem slow', ' minut wait got tabl', ' serious killer hot chai latt', ' allergi warn menu waitress absolut clue meal not contain peanut', ' boyfriend tri mediterranean chicken salad fell love', ' rotat beer tap also highlight place', ' price bit concern mellow mushroom', ' worst thai ever', ' stay vega must get breakfast least', ' want first say server great perfect servic', ' pizza select good', ' strawberri tea good', ' highli unprofession rude loyal patron', ' overal great experi', ' spend money elsewher', ' regular toast bread equal satisfi occasion pat butter mmmm', ' buffet bellagio far anticip', ' drink weak peopl', ' order not correct', ' also feel like chip bought not made hous', ' disappoint dinner went elsewher dessert', ' chip sal amaz', ' return', ' new fav vega buffet spot', ' serious cannot believ owner mani unexperienc employe run around like chicken head cut', ' sad', ' felt insult disrespect could talk judg anoth human like', ' call steakhous properli cook steak understand', ' not impress concept food', ' thing crazi guacamol like pur ed', ' realli noth postino hope experi better', ' got food poison buffet', ' brought fresh batch fri think yay someth warm', ' hilari yummi christma eve dinner rememb biggest fail entir trip us', ' needless say go back anytim soon', ' place disgust', ' everi time eat see care teamwork profession degre', ' ri style calamari joke', ' howev much garlic fondu bare edibl', ' could bare stomach meal complain busi lunch', ' bad lost heart finish', ' also took forev bring us check ask', ' one make scene restaur get definit lost love one', ' disappoint experi', ' food par denni say not good', ' want wait mediocr food downright terribl servic place', ' waaaaaayyyyyyyyyi rate say', ' go back', ' place fairli clean food simpli worth', ' place lack style', ' sangria half glass wine full ridicul', ' bother come', ' meat pretti dri slice brisket pull pork', ' build seem pretti neat bathroom pretti trippi eat', ' equal aw', ' probabl not hurri go back', ' slow seat even reserv', ' not good stretch imagin', ' cashew cream sauc bland veget undercook', ' chipolt ranch dip saus tasteless seem thin water heat', ' bit sweet not realli spici enough lack flavor', ' disappoint', ' place horribl way overpr', ' mayb vegetarian fare twice thought averag best', ' busi know', ' tabl outsid also dirti lot time worker not alway friendli help menu', ' ambianc not feel like buffet set douchey indoor garden tea biscuit', ' con spotti servic', ' fri not hot neither burger', ' came back cold', ' food came disappoint ensu', ' real disappoint waiter', ' husband said rude not even apolog bad food anyth', ' reason eat would fill night bing drink get carb stomach', ' insult profound deuchebaggeri go outsid smoke break serv solidifi', ' someon order two taco think may part custom servic ask combo ala cart', ' quit disappoint although blame need place door', ' rave review wait eat disappoint', ' del taco pretti nasti avoid possibl', ' not hard make decent hamburg', ' like', ' hell go back', ' gotten much better servic pizza place next door servic receiv restaur', ' know big deal place back ya', ' immedi said want talk manag not want talk guy shot firebal behind bar', ' ambianc much better', ' unfortun set us disapppoint entre', ' food good', ' server suck wait correct server heimer suck', ' happen next pretti put', ' bad caus know famili own realli want like place', ' overpr get', ' vomit bathroom mid lunch', ' kept look time soon becom minut yet still food', ' place eat circumst would ever return top list', ' start tuna sashimi brownish color obvious fresh', ' food averag', ' sure beat nacho movi would expect littl bit come restaur', ' ha long bay bit flop', ' problem charg sandwich bigger subway sub offer better amount veget', ' shrimp unwrap live mile brushfir liter ice cold', ' lack flavor seem undercook dri', ' realli impress place close', ' would avoid place stay mirag', ' refri bean came meal dri crusti food bland', ' spend money time place els', ' ladi tabl next us found live green caterpillar salad', ' present food aw', ' tell disappoint', ' think food flavor textur lack', ' appetit instantli gone', ' overal not impress would not go back', ' whole experi underwhelm think go ninja sushi next time', ' wast enough life pour salt wound draw time took bring check']\n"
          ]
        }
      ]
    },
    {
      "cell_type": "code",
      "source": [
        "from sklearn.feature_extraction.text import CountVectorizer\n",
        "cv = CountVectorizer(max_features = 1500) #take the most frequent\n",
        "x = cv.fit_transform(corpus).toarray() #review will be in 0 or 1\n",
        "y = dataset.iloc[:, -1].values\n"
      ],
      "metadata": {
        "id": "D6tNks6HZ1TL"
      },
      "execution_count": null,
      "outputs": []
    },
    {
      "cell_type": "code",
      "source": [
        "print((len(x)))"
      ],
      "metadata": {
        "colab": {
          "base_uri": "https://localhost:8080/"
        },
        "id": "cUoSdkAxZ4KN",
        "outputId": "74ce8c96-4274-4d81-e7f7-42a7aed16fcd"
      },
      "execution_count": null,
      "outputs": [
        {
          "output_type": "stream",
          "name": "stdout",
          "text": [
            "1000\n"
          ]
        }
      ]
    },
    {
      "cell_type": "code",
      "source": [
        "from sklearn.model_selection import train_test_split\n",
        "X_train , X_test , y_train, y_test = train_test_split(x,y,test_size=0.2,random_state=0)"
      ],
      "metadata": {
        "id": "bEw8vtR0Z6t4"
      },
      "execution_count": null,
      "outputs": []
    },
    {
      "cell_type": "code",
      "source": [
        "from sklearn.naive_bayes import GaussianNB\n",
        "classifier = GaussianNB()\n",
        "classifier.fit(X_train, y_train)\n"
      ],
      "metadata": {
        "colab": {
          "base_uri": "https://localhost:8080/"
        },
        "id": "ytM-v0vZaE5f",
        "outputId": "68ffc352-4b69-47f8-9230-1456e3d8a3eb"
      },
      "execution_count": null,
      "outputs": [
        {
          "output_type": "execute_result",
          "data": {
            "text/plain": [
              "GaussianNB()"
            ]
          },
          "metadata": {},
          "execution_count": 29
        }
      ]
    },
    {
      "cell_type": "code",
      "source": [
        "y_pred = classifier.predict(X_test)\n",
        "print(np.concatenate((y_pred.reshape(len(y_pred),1), y_test.reshape(len(y_test),1)),1))"
      ],
      "metadata": {
        "colab": {
          "base_uri": "https://localhost:8080/"
        },
        "id": "Js0u4dsFaG10",
        "outputId": "a3eeb62f-808d-42ec-f244-0e5456570f03"
      },
      "execution_count": null,
      "outputs": [
        {
          "output_type": "stream",
          "name": "stdout",
          "text": [
            "[[1 0]\n",
            " [1 0]\n",
            " [1 0]\n",
            " [0 0]\n",
            " [0 0]\n",
            " [1 0]\n",
            " [1 1]\n",
            " [1 0]\n",
            " [1 0]\n",
            " [1 1]\n",
            " [1 1]\n",
            " [1 1]\n",
            " [1 0]\n",
            " [1 1]\n",
            " [1 1]\n",
            " [1 1]\n",
            " [0 0]\n",
            " [0 0]\n",
            " [0 0]\n",
            " [1 1]\n",
            " [0 0]\n",
            " [0 1]\n",
            " [1 1]\n",
            " [1 0]\n",
            " [1 0]\n",
            " [0 1]\n",
            " [1 1]\n",
            " [1 1]\n",
            " [1 1]\n",
            " [0 0]\n",
            " [1 1]\n",
            " [1 1]\n",
            " [1 1]\n",
            " [1 1]\n",
            " [1 1]\n",
            " [0 0]\n",
            " [1 0]\n",
            " [0 0]\n",
            " [1 0]\n",
            " [1 1]\n",
            " [1 1]\n",
            " [1 0]\n",
            " [1 1]\n",
            " [0 0]\n",
            " [0 0]\n",
            " [0 0]\n",
            " [1 0]\n",
            " [1 0]\n",
            " [0 0]\n",
            " [0 0]\n",
            " [1 1]\n",
            " [1 1]\n",
            " [1 1]\n",
            " [1 1]\n",
            " [1 0]\n",
            " [0 0]\n",
            " [1 1]\n",
            " [1 1]\n",
            " [0 0]\n",
            " [1 1]\n",
            " [1 0]\n",
            " [0 0]\n",
            " [1 0]\n",
            " [1 0]\n",
            " [1 1]\n",
            " [0 0]\n",
            " [1 1]\n",
            " [1 1]\n",
            " [1 1]\n",
            " [1 0]\n",
            " [1 1]\n",
            " [1 1]\n",
            " [1 1]\n",
            " [1 1]\n",
            " [0 0]\n",
            " [1 0]\n",
            " [1 1]\n",
            " [0 1]\n",
            " [0 0]\n",
            " [1 1]\n",
            " [0 0]\n",
            " [1 1]\n",
            " [1 1]\n",
            " [0 0]\n",
            " [1 1]\n",
            " [1 1]\n",
            " [1 0]\n",
            " [0 0]\n",
            " [1 1]\n",
            " [1 0]\n",
            " [0 0]\n",
            " [1 1]\n",
            " [0 0]\n",
            " [0 0]\n",
            " [1 0]\n",
            " [1 1]\n",
            " [1 0]\n",
            " [1 1]\n",
            " [1 1]\n",
            " [1 0]\n",
            " [0 1]\n",
            " [1 1]\n",
            " [1 1]\n",
            " [1 0]\n",
            " [0 1]\n",
            " [1 0]\n",
            " [1 1]\n",
            " [1 1]\n",
            " [0 0]\n",
            " [0 1]\n",
            " [0 1]\n",
            " [1 1]\n",
            " [0 0]\n",
            " [1 0]\n",
            " [1 1]\n",
            " [0 0]\n",
            " [1 1]\n",
            " [1 1]\n",
            " [1 1]\n",
            " [1 1]\n",
            " [1 1]\n",
            " [0 0]\n",
            " [1 1]\n",
            " [1 0]\n",
            " [0 0]\n",
            " [0 0]\n",
            " [1 1]\n",
            " [1 0]\n",
            " [0 0]\n",
            " [1 1]\n",
            " [1 0]\n",
            " [1 1]\n",
            " [0 0]\n",
            " [0 0]\n",
            " [1 1]\n",
            " [1 1]\n",
            " [1 1]\n",
            " [1 1]\n",
            " [1 1]\n",
            " [1 0]\n",
            " [0 1]\n",
            " [1 1]\n",
            " [1 1]\n",
            " [0 0]\n",
            " [1 0]\n",
            " [0 0]\n",
            " [1 0]\n",
            " [1 1]\n",
            " [1 1]\n",
            " [1 1]\n",
            " [1 1]\n",
            " [0 1]\n",
            " [1 1]\n",
            " [1 1]\n",
            " [1 0]\n",
            " [0 0]\n",
            " [1 1]\n",
            " [1 1]\n",
            " [1 1]\n",
            " [1 0]\n",
            " [1 0]\n",
            " [0 0]\n",
            " [0 1]\n",
            " [1 1]\n",
            " [0 0]\n",
            " [0 0]\n",
            " [1 0]\n",
            " [0 0]\n",
            " [0 0]\n",
            " [0 1]\n",
            " [0 0]\n",
            " [1 1]\n",
            " [1 1]\n",
            " [0 0]\n",
            " [0 0]\n",
            " [1 1]\n",
            " [0 0]\n",
            " [1 1]\n",
            " [0 0]\n",
            " [0 1]\n",
            " [1 1]\n",
            " [0 0]\n",
            " [0 0]\n",
            " [1 0]\n",
            " [0 0]\n",
            " [1 1]\n",
            " [0 0]\n",
            " [1 1]\n",
            " [0 0]\n",
            " [1 1]\n",
            " [1 1]\n",
            " [0 0]\n",
            " [1 0]\n",
            " [1 0]\n",
            " [1 1]\n",
            " [0 0]\n",
            " [1 1]\n",
            " [1 1]\n",
            " [1 0]\n",
            " [1 1]]\n"
          ]
        }
      ]
    },
    {
      "cell_type": "code",
      "source": [
        "from sklearn.metrics import confusion_matrix, accuracy_score\n",
        "cm = confusion_matrix(y_test, y_pred)\n",
        "print(cm)\n",
        "accuracy_score(y_test, y_pred)\n"
      ],
      "metadata": {
        "colab": {
          "base_uri": "https://localhost:8080/"
        },
        "id": "iHqqCMwbaJLp",
        "outputId": "94f08bfc-f1a8-42cd-e086-0b2298d283dc"
      },
      "execution_count": null,
      "outputs": [
        {
          "output_type": "stream",
          "name": "stdout",
          "text": [
            "[[55 42]\n",
            " [12 91]]\n"
          ]
        },
        {
          "output_type": "execute_result",
          "data": {
            "text/plain": [
              "0.73"
            ]
          },
          "metadata": {},
          "execution_count": 31
        }
      ]
    },
    {
      "cell_type": "code",
      "source": [
        "from sklearn.metrics import confusion_matrix, accuracy_score"
      ],
      "metadata": {
        "id": "F9g9NvwTaMVZ"
      },
      "execution_count": null,
      "outputs": []
    },
    {
      "cell_type": "code",
      "source": [
        "cm\n"
      ],
      "metadata": {
        "colab": {
          "base_uri": "https://localhost:8080/"
        },
        "id": "nzSAT9x5aN3E",
        "outputId": "a44b7b27-7a1c-4aa6-9017-bf992c4c2bdc"
      },
      "execution_count": null,
      "outputs": [
        {
          "output_type": "execute_result",
          "data": {
            "text/plain": [
              "array([[55, 42],\n",
              "       [12, 91]])"
            ]
          },
          "metadata": {},
          "execution_count": 33
        }
      ]
    },
    {
      "cell_type": "code",
      "source": [
        "from sklearn.metrics import confusion_matrix, accuracy_score\n",
        "cm = confusion_matrix(y_test, y_pred)\n",
        "print(cm)"
      ],
      "metadata": {
        "colab": {
          "base_uri": "https://localhost:8080/"
        },
        "id": "xAiF-TkDaPFy",
        "outputId": "3f91fe96-c311-4f99-c8e6-f4a4d15f8593"
      },
      "execution_count": null,
      "outputs": [
        {
          "output_type": "stream",
          "name": "stdout",
          "text": [
            "[[55 42]\n",
            " [12 91]]\n"
          ]
        }
      ]
    },
    {
      "cell_type": "code",
      "source": [
        "res = accuracy_score(y_test, y_pred)\n",
        "res"
      ],
      "metadata": {
        "colab": {
          "base_uri": "https://localhost:8080/"
        },
        "id": "Mqojh6phaR5n",
        "outputId": "02440543-d441-466e-a217-596397b206ca"
      },
      "execution_count": null,
      "outputs": [
        {
          "output_type": "execute_result",
          "data": {
            "text/plain": [
              "0.73"
            ]
          },
          "metadata": {},
          "execution_count": 35
        }
      ]
    },
    {
      "cell_type": "code",
      "source": [
        "df = res*100\n"
      ],
      "metadata": {
        "id": "5rLHFsUVaUdc"
      },
      "execution_count": null,
      "outputs": []
    },
    {
      "cell_type": "code",
      "source": [
        "if df < 20.0:\n",
        "  print(\"1 star * \\n basic accommodation, small rooms; these properties do not guarantee ensuite bathrooms, 24-hour reception, or daily cleaning. Think hostels or backpacker motel rooms.\");\n",
        "elif df>20.0 and  df<=40.0:\n",
        "  print(\"2 star **\\n often, two-star hotels are in old buildings that can’t be renovated. These properties are a step up from one-star spots in that they probably offer a 24-hour reception, cleaning, and a basic ensuite bathroom. Amenities are still limited, but you might get a continental breakfast and a room with a phone and TV. \")\n",
        "elif df>40.0 and df<=60.0:\n",
        "  print(\"3 star * \\n a typical hotel will have three stars and offer room service, ensuite bathrooms, daily cleaning, a desk or table, and Wifi. This is a standard hotel experience that most travelers expect unless they’re on a strict budget\")\n",
        "elif df>60.0 and df<=80.0:\n",
        "  print(\"4 star ** \\n these hotels offer an on-site swimming pool, gym, bar/restaurant, or valet parking. They have nicer rooms and larger lobbies. Fast internet is standard. \")\n",
        "else:\n",
        "  print(\"5 star *** \\n high-end, luxury hotels get five stars. There will be a nice bar and restaurant on-site, as well as a spa, gym, big bathrooms, and comfortable beds.\")"
      ],
      "metadata": {
        "colab": {
          "base_uri": "https://localhost:8080/"
        },
        "id": "OAO9Nlc3aWLT",
        "outputId": "a5657378-f087-41e9-dff2-5c3f2e8d5f59"
      },
      "execution_count": null,
      "outputs": [
        {
          "output_type": "stream",
          "name": "stdout",
          "text": [
            "4 star ** \n",
            " these hotels offer an on-site swimming pool, gym, bar/restaurant, or valet parking. They have nicer rooms and larger lobbies. Fast internet is standard. \n"
          ]
        }
      ]
    },
    {
      "cell_type": "code",
      "source": [],
      "metadata": {
        "id": "dB5-8cbzaYbN"
      },
      "execution_count": null,
      "outputs": []
    }
  ]
}